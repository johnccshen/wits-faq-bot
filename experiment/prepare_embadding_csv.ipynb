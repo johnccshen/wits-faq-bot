{
 "cells": [
  {
   "cell_type": "markdown",
   "id": "ed8a8a0b-7f61-45ee-b2f0-503350732603",
   "metadata": {},
   "source": [
    "# Embedding FAQ questions for search\n",
    "\n",
    "This notebook shows how to prepare a dataset of WITS FAQ for search. The dataset is used for the competition.\n",
    "\n",
    "ref: https://github.com/openai/openai-cookbook/blob/297c53430cad2d05ba763ab9dca64309cb5091e9/examples/Embedding_Wikipedia_articles_for_search.ipynb"
   ]
  },
  {
   "cell_type": "code",
   "execution_count": 25,
   "id": "1bccd22f-910d-43a9-890d-56240040bbdc",
   "metadata": {},
   "outputs": [],
   "source": [
    "# imports\n",
    "import openai  # for generating embeddings\n",
    "import pandas as pd  # for DataFrames to store article sections and embeddings\n",
    "import tiktoken  # for counting tokens\n",
    "import os"
   ]
  },
  {
   "cell_type": "code",
   "execution_count": 26,
   "id": "ac97b0d7-b911-43eb-9be6-bc4ed3c1dd2b",
   "metadata": {},
   "outputs": [],
   "source": [
    "openai.api_key = os.getenv(\"OPENAI_WITS_API_KEY\")\n",
    "if not openai.api_key:\n",
    "    raise Exception(\"OPENAI API Key is not set.\")\n",
    "    \n",
    "GPT_MODEL = \"gpt-3.5-turbo\"\n",
    "MAX_TOKENS = 1600\n",
    "EMBEDDING_MODEL = \"text-embedding-ada-002\"  # OpenAI's best embeddings as of Apr 2023\n",
    "BATCH_SIZE = 1000  # you can submit up to 2048 embedding inputs per request\n",
    "SOURCE_DATA = '../data/FAQ_JOHN_REVIEW.xlsx'"
   ]
  },
  {
   "cell_type": "code",
   "execution_count": 27,
   "id": "690f1507-d1a5-4f0f-8c6e-9e293eb49937",
   "metadata": {},
   "outputs": [],
   "source": [
    "df = pd.read_excel(SOURCE_DATA)"
   ]
  },
  {
   "cell_type": "markdown",
   "id": "c4100720-59b6-4f4a-ab39-bd8b0fcb625d",
   "metadata": {},
   "source": [
    "## Prepare Eng version (Optional)"
   ]
  },
  {
   "cell_type": "code",
   "execution_count": 28,
   "id": "cf86d857-63e8-470d-a45d-a4af20b3a1ef",
   "metadata": {},
   "outputs": [],
   "source": [
    "# faq_eng = []\n",
    "# for index, row in df.iterrows():\n",
    "#     print(row)\n",
    "#     response_q = openai.Completion.create(\n",
    "#         model=\"text-davinci-003\",\n",
    "#         prompt=f\"Translate this into English:\\n\\n{k}\\n\\n1.\",\n",
    "#         temperature=0.3,\n",
    "#         max_tokens=100,\n",
    "#         top_p=1.0,\n",
    "#         frequency_penalty=0.0,\n",
    "#         presence_penalty=0.0\n",
    "#     )\n",
    "#     response_ans = openai.Completion.create(\n",
    "#         model=\"text-davinci-003\",\n",
    "#         prompt=f\"Translate this into English:\\n\\n{v}\\n\\n1.\",\n",
    "#         temperature=0.3,\n",
    "#         max_tokens=100,\n",
    "#         top_p=1.0,\n",
    "#         frequency_penalty=0.0,\n",
    "#         presence_penalty=0.0\n",
    "#     )\n",
    "#     q = response_q[\"choices\"][0][\"text\"]\n",
    "#     a = response_ans[\"choices\"][0][\"text\"]\n",
    "#     faq_eng.append({'Question': q, \"Answer\": a})\n",
    "#     df_eng = pd.DataFrame(faq_eng)\n",
    "#     df_eng.to_csv('../data/FAQ_ENG_CHATGPT.csv', index=False)\n",
    "#     print(f\"Finish translating {index}\")\n",
    "#     print(q)\n",
    "#     print(a)"
   ]
  },
  {
   "cell_type": "code",
   "execution_count": 29,
   "id": "055502e1-308b-44ee-882a-976e81faa61c",
   "metadata": {},
   "outputs": [],
   "source": [
    "faq_dict = {row.Question: str(row.Answer)+ '\\n' +str(row[\"Contact/Phone/Mail\"]) for index, row in df.iterrows()}\n",
    "faq_strings = []\n",
    "for k, v in faq_dict.items():\n",
    "    faq_strings.extend([f\"Question: {k}\\nAnswer: {v}\\n\\n\"])"
   ]
  },
  {
   "cell_type": "code",
   "execution_count": 70,
   "id": "42976f1e-6140-4588-8609-f918ef36bd22",
   "metadata": {},
   "outputs": [
    {
     "name": "stdout",
     "output_type": "stream",
     "text": [
      "Batch 0 to 999\n"
     ]
    }
   ],
   "source": [
    "embeddings = []\n",
    "for batch_start in range(0, len(faq_strings), BATCH_SIZE):\n",
    "    batch_end = batch_start + BATCH_SIZE\n",
    "    batch = faq_strings[batch_start:batch_end]\n",
    "    print(f\"Batch {batch_start} to {batch_end-1}\")\n",
    "    response = openai.Embedding.create(model=EMBEDDING_MODEL, input=batch)\n",
    "    for i, be in enumerate(response[\"data\"]):\n",
    "        assert i == be[\"index\"]  # double check embeddings are in same order as input\n",
    "    batch_embeddings = [e[\"embedding\"] for e in response[\"data\"]]\n",
    "    embeddings.extend(batch_embeddings)\n",
    "\n",
    "df = pd.DataFrame({\"text\": faq_strings, \"embedding\": embeddings})"
   ]
  },
  {
   "cell_type": "code",
   "execution_count": 71,
   "id": "7776db17-a932-4347-9d1f-2b08cf4e499e",
   "metadata": {},
   "outputs": [],
   "source": [
    "embadding_path = \"../data/embadding_v1.csv\"\n",
    "df.to_csv(embadding_path, index=False)"
   ]
  },
  {
   "cell_type": "code",
   "execution_count": null,
   "id": "2a0a8167-7710-49a2-bcc1-c22e9f863af7",
   "metadata": {},
   "outputs": [],
   "source": []
  }
 ],
 "metadata": {
  "kernelspec": {
   "display_name": "Python 3 (ipykernel)",
   "language": "python",
   "name": "python3"
  },
  "language_info": {
   "codemirror_mode": {
    "name": "ipython",
    "version": 3
   },
   "file_extension": ".py",
   "mimetype": "text/x-python",
   "name": "python",
   "nbconvert_exporter": "python",
   "pygments_lexer": "ipython3",
   "version": "3.11.3"
  }
 },
 "nbformat": 4,
 "nbformat_minor": 5
}
