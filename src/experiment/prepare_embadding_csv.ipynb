{
 "cells": [
  {
   "cell_type": "markdown",
   "id": "ed8a8a0b-7f61-45ee-b2f0-503350732603",
   "metadata": {},
   "source": [
    "# Embedding FAQ questions for search\n",
    "\n",
    "This notebook shows how to prepare a dataset of WITS FAQ for search. The dataset is used for the competition.\n",
    "\n",
    "ref: https://github.com/openai/openai-cookbook/blob/297c53430cad2d05ba763ab9dca64309cb5091e9/examples/Embedding_Wikipedia_articles_for_search.ipynb"
   ]
  },
  {
   "cell_type": "code",
   "execution_count": 8,
   "id": "1bccd22f-910d-43a9-890d-56240040bbdc",
   "metadata": {},
   "outputs": [],
   "source": [
    "# imports\n",
    "import openai  # for generating embeddings\n",
    "import pandas as pd  # for DataFrames to store article sections and embeddings\n",
    "import tiktoken  # for counting tokens\n",
    "import os"
   ]
  },
  {
   "cell_type": "code",
   "execution_count": 9,
   "id": "ac97b0d7-b911-43eb-9be6-bc4ed3c1dd2b",
   "metadata": {},
   "outputs": [],
   "source": [
    "openai.api_key = os.getenv(\"OPENAI_WITS_API_KEY\")\n",
    "if not openai.api_key:\n",
    "    raise Exception(\"OPENAI API Key is not set.\")\n",
    "    \n",
    "MAX_TOKENS = 1600\n",
    "EMBEDDING_MODEL = \"text-embedding-ada-002\"  # OpenAI's best embeddings as of Apr 2023\n",
    "BATCH_SIZE = 1000  # you can submit up to 2048 embedding inputs per request\n",
    "SOURCE_DATA = '../data/FAQ_JOHN_REVIEW.xlsx'"
   ]
  },
  {
   "cell_type": "code",
   "execution_count": 10,
   "id": "690f1507-d1a5-4f0f-8c6e-9e293eb49937",
   "metadata": {},
   "outputs": [],
   "source": [
    "df = pd.read_excel(SOURCE_DATA)"
   ]
  },
  {
   "cell_type": "code",
   "execution_count": 11,
   "id": "055502e1-308b-44ee-882a-976e81faa61c",
   "metadata": {},
   "outputs": [],
   "source": [
    "faq_dict = {row.Question: str(row.Answer)+ '\\n' +str(row[\"Contact/Phone/Mail\"]) for index, row in df.iterrows()}\n",
    "faq_strings = []\n",
    "for k, v in faq_dict.items():\n",
    "    faq_strings.extend([f\"Question: {k}\\nAnswer: {v}\\n\\n\"])"
   ]
  },
  {
   "cell_type": "code",
   "execution_count": 12,
   "id": "42976f1e-6140-4588-8609-f918ef36bd22",
   "metadata": {},
   "outputs": [
    {
     "name": "stdout",
     "output_type": "stream",
     "text": [
      "Batch 0 to 999\n"
     ]
    }
   ],
   "source": [
    "embeddings = []\n",
    "for batch_start in range(0, len(faq_strings), BATCH_SIZE):\n",
    "    batch_end = batch_start + BATCH_SIZE\n",
    "    batch = faq_strings[batch_start:batch_end]\n",
    "    print(f\"Batch {batch_start} to {batch_end-1}\")\n",
    "    response = openai.Embedding.create(model=EMBEDDING_MODEL, input=batch)\n",
    "    for i, be in enumerate(response[\"data\"]):\n",
    "        assert i == be[\"index\"]  # double check embeddings are in same order as input\n",
    "    batch_embeddings = [e[\"embedding\"] for e in response[\"data\"]]\n",
    "    embeddings.extend(batch_embeddings)\n",
    "\n",
    "df = pd.DataFrame({\"text\": faq_strings, \"embedding\": embeddings})"
   ]
  },
  {
   "cell_type": "code",
   "execution_count": 13,
   "id": "7776db17-a932-4347-9d1f-2b08cf4e499e",
   "metadata": {},
   "outputs": [],
   "source": [
    "embedding_path = \"../data/embedding_v4.csv\"\n",
    "df.to_csv(embedding_path, index=False)"
   ]
  },
  {
   "cell_type": "code",
   "execution_count": 19,
   "id": "cbcd8cf1",
   "metadata": {
    "collapsed": false,
    "jupyter": {
     "outputs_hidden": false
    }
   },
   "outputs": [],
   "source": [
    "import json\n",
    "body = \"\"\"{\n",
    "    \"type\":\"message\",\n",
    "    \"message\":{\n",
    "        \"type\":\"text\",\n",
    "        \"id\":\"18056354926880\",\n",
    "        \"text\":\"也有可能\"\n",
    "    },\n",
    "    \"webhookEventId\":\"01GZ3MCSWVBF6FA48AH43VA14Z\",\n",
    "    \"deliveryContext\":{\n",
    "        \"isRedelivery\":false\n",
    "    },\n",
    "    \"timestamp\":1682675492256,\n",
    "    \"source\":{\n",
    "        \"type\":\"group\",\n",
    "        \"groupId\":\"C3811ba6177abcfd26f584b22aa780e29\",\n",
    "        \"userId\":\"U76c776db3485221021055ea82ed43a4a\"\n",
    "    },\n",
    "    \"replyToken\":\"80c4c3d5a68144a7b706700c0bd09461\",\n",
    "    \"mode\":\"active\"\n",
    "}\"\"\"\n",
    "json_data = json.loads(body)"
   ]
  },
  {
   "cell_type": "code",
   "execution_count": 21,
   "outputs": [
    {
     "data": {
      "text/plain": "'active'"
     },
     "execution_count": 21,
     "metadata": {},
     "output_type": "execute_result"
    }
   ],
   "source": [
    "json_data['mode']"
   ],
   "metadata": {
    "collapsed": false
   }
  },
  {
   "cell_type": "code",
   "execution_count": null,
   "outputs": [],
   "source": [],
   "metadata": {
    "collapsed": false
   }
  }
 ],
 "metadata": {
  "kernelspec": {
   "display_name": "Python 3 (ipykernel)",
   "language": "python",
   "name": "python3"
  },
  "language_info": {
   "codemirror_mode": {
    "name": "ipython",
    "version": 3
   },
   "file_extension": ".py",
   "mimetype": "text/x-python",
   "name": "python",
   "nbconvert_exporter": "python",
   "pygments_lexer": "ipython3",
   "version": "3.11.3"
  }
 },
 "nbformat": 4,
 "nbformat_minor": 5
}
