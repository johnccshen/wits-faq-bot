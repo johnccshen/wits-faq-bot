{
 "cells": [
  {
   "cell_type": "code",
   "execution_count": 80,
   "metadata": {},
   "outputs": [],
   "source": [
    "# imports\n",
    "import ast  # for converting embeddings saved as strings back to arrays\n",
    "import openai  # for calling the OpenAI API\n",
    "import pandas as pd  # for storing text and embeddings data\n",
    "import tiktoken  # for counting tokens\n",
    "from scipy import spatial  # for calculating vector similarities for search\n",
    "\n",
    "\n",
    "# models\n",
    "EMBEDDING_MODEL = \"text-embedding-ada-002\"\n",
    "GPT_MODEL = \"gpt-3.5-turbo\""
   ]
  },
  {
   "cell_type": "code",
   "execution_count": 81,
   "metadata": {},
   "outputs": [],
   "source": [
    "embeddings_path = \"../data/embadding_v1.csv\"\n",
    "\n",
    "df = pd.read_csv(embeddings_path)\n",
    "# convert embeddings from CSV str type back to list type\n",
    "df['embedding'] = df['embedding'].apply(ast.literal_eval)"
   ]
  },
  {
   "cell_type": "code",
   "execution_count": 82,
   "metadata": {},
   "outputs": [],
   "source": [
    "# search function\n",
    "def strings_ranked_by_relatedness(\n",
    "    query: str,\n",
    "    df: pd.DataFrame,\n",
    "    relatedness_fn=lambda x, y: 1 - spatial.distance.cosine(x, y),\n",
    "    top_n: int = 100\n",
    ") -> tuple[list[str], list[float]]:\n",
    "    \"\"\"Returns a list of strings and relatednesses, sorted from most related to least.\"\"\"\n",
    "    query_embedding_response = openai.Embedding.create(\n",
    "        model=EMBEDDING_MODEL,\n",
    "        input=query,\n",
    "    )\n",
    "    query_embedding = query_embedding_response[\"data\"][0][\"embedding\"]\n",
    "    strings_and_relatednesses = [\n",
    "        (row[\"text\"], relatedness_fn(query_embedding, row[\"embedding\"]))\n",
    "        for i, row in df.iterrows()\n",
    "    ]\n",
    "    strings_and_relatednesses.sort(key=lambda x: x[1], reverse=True)\n",
    "    strings, relatednesses = zip(*strings_and_relatednesses)\n",
    "    return strings[:top_n], relatednesses[:top_n]"
   ]
  },
  {
   "cell_type": "code",
   "execution_count": 83,
   "metadata": {},
   "outputs": [
    {
     "name": "stdout",
     "output_type": "stream",
     "text": [
      "relatedness=0.821\n"
     ]
    },
    {
     "data": {
      "text/plain": [
       "'Question: 我想知道特休假的規定？\\nAnswer: 同仁於公司服務滿一定期間後，依法令規定以周年制給與特休假。同仁得以小時為單位申請：\\n 1.半年以上一年未滿者，給假三日。\\n 2. 一年以上未滿兩年者，給假七日。\\n 3.兩年以上未滿三年者，給假十日。\\n 4.三年以上未滿五年者，給假十四日。\\n 5.五年以上未滿十年者，給假十五日。\\n 6.十年以上者，每一年加給一日，加至三十日為止。\\nYui/#8836/YuiWong@wistronits.com\\n\\n'"
      ]
     },
     "metadata": {},
     "output_type": "display_data"
    },
    {
     "name": "stdout",
     "output_type": "stream",
     "text": [
      "relatedness=0.817\n"
     ]
    },
    {
     "data": {
      "text/plain": [
       "'Question: 我的特休展延假天數沒用完怎麼辦？\\nAnswer: 遞延假指的是特休假的展延，若於展延後一年仍未休完，會直接轉換為代金\\nYui/#8836/YuiWong@wistronits.com\\n\\n'"
      ]
     },
     "metadata": {},
     "output_type": "display_data"
    },
    {
     "name": "stdout",
     "output_type": "stream",
     "text": [
      "relatedness=0.816\n"
     ]
    },
    {
     "data": {
      "text/plain": [
       "'Question: 我的特休假天數不夠用，該怎麼辦？\\nAnswer: 改請個人假、事假，若您所有假期都請完，卻有不可抗因素一定要請假，請與主管及人資部溝通詢問\\nYui/#8836/YuiWong@wistronits.com\\n\\n'"
      ]
     },
     "metadata": {},
     "output_type": "display_data"
    },
    {
     "name": "stdout",
     "output_type": "stream",
     "text": [
      "relatedness=0.813\n"
     ]
    },
    {
     "data": {
      "text/plain": [
       "'Question: 教召期間如適逢休息日或例假，公司是否會另給予補假？\\nAnswer: 目前教召公假認定是針對工作日，如適逢休息日或例假，公司將不另給補假\\nYui/#8836/YuiWong@wistronits.com\\n\\n'"
      ]
     },
     "metadata": {},
     "output_type": "display_data"
    },
    {
     "name": "stdout",
     "output_type": "stream",
     "text": [
      "relatedness=0.811\n"
     ]
    },
    {
     "data": {
      "text/plain": [
       "'Question: 我想知道事假的規定？\\nAnswer: 有請假需求，又無特休或個人假可以使用時，可以以小時為單位提出申請，一年14天，不給薪\\nYui/#8836/YuiWong@wistronits.com\\n\\n'"
      ]
     },
     "metadata": {},
     "output_type": "display_data"
    }
   ],
   "source": [
    "# examples\n",
    "strings, relatednesses = strings_ranked_by_relatedness(\"特休\", df, top_n=5)\n",
    "for string, relatedness in zip(strings, relatednesses):\n",
    "    print(f\"{relatedness=:.3f}\")\n",
    "    display(string)"
   ]
  },
  {
   "cell_type": "code",
   "execution_count": 84,
   "metadata": {},
   "outputs": [],
   "source": [
    "def num_tokens(text: str, model: str = GPT_MODEL) -> int:\n",
    "    \"\"\"Return the number of tokens in a string.\"\"\"\n",
    "    encoding = tiktoken.encoding_for_model(model)\n",
    "    return len(encoding.encode(text))\n",
    "\n",
    "\n",
    "def query_message(\n",
    "    query: str,\n",
    "    df: pd.DataFrame,\n",
    "    model: str,\n",
    "    token_budget: int\n",
    ") -> str:\n",
    "    \"\"\"Return a message for GPT, with relevant source texts pulled from a dataframe.\"\"\"\n",
    "    strings, relatednesses = strings_ranked_by_relatedness(query, df)\n",
    "    introduction = '運用以下的FAQ來回答問題，並附上聯絡人資訊。如果無法利用FAQ來回答問題，請回答：很抱歉，我無法回答以上問題，請聯絡8855'\n",
    "    question = f\"\\n\\nQuestion: {query}\"\n",
    "    message = introduction\n",
    "    for string in strings:\n",
    "        next_article = f'\\n\\nFAQ:\\n\"\"\"\\n{string}\\n\"\"\"'\n",
    "        if (\n",
    "            num_tokens(message + next_article + question, model=model)\n",
    "            > token_budget\n",
    "        ):\n",
    "            break\n",
    "        else:\n",
    "            message += next_article\n",
    "    return message + question\n",
    "\n",
    "def try_answer_query_message(\n",
    "    query: str,\n",
    "    df: pd.DataFrame,\n",
    "    model: str,\n",
    "    token_budget: int\n",
    ") -> str:\n",
    "    \"\"\"Return a message for GPT, with relevant source texts pulled from a dataframe.\"\"\"\n",
    "    strings, relatednesses = strings_ranked_by_relatedness(query, df)\n",
    "    introduction = '請以社工的角度溫柔地回答問題'\n",
    "    question = f\"\\n\\nQuestion: {query}\"\n",
    "    message = introduction\n",
    "    return message + question\n",
    "\n",
    "\n",
    "def ask(\n",
    "    query: str,\n",
    "    df: pd.DataFrame = df,\n",
    "    model: str = GPT_MODEL,\n",
    "    token_budget: int = 4096 - 500,\n",
    "    print_message: bool = False,\n",
    "    try_answer: bool = False\n",
    ") -> str:\n",
    "    \"\"\"Answers a query using GPT and a dataframe of relevant texts and embeddings.\"\"\"\n",
    "    message = query_message(query, df, model=model, token_budget=token_budget)\n",
    "    if print_message:\n",
    "        print(message)\n",
    "    messages = [\n",
    "        # {\"role\": \"system\", \"content\": \"You answer questions about the 2022 Winter Olympics.\"},\n",
    "        {\"role\": \"system\", \"content\": \"請回答有關FAQ的問題\"},\n",
    "        {\"role\": \"user\", \"content\": message},\n",
    "    ]\n",
    "    response = openai.ChatCompletion.create(\n",
    "        model=model,\n",
    "        messages=messages,\n",
    "        temperature=0\n",
    "    )\n",
    "    response_message = response[\"choices\"][0][\"message\"][\"content\"]\n",
    "    if '很抱歉，我無法回答以上問題，請聯絡8855。' in response_message and try_answer:\n",
    "        try_answer_questions = [\n",
    "            {\"role\": \"system\", \"content\": \"以公司發言人的角度回答問題\"},\n",
    "            {\"role\": \"user\", \"content\": query},\n",
    "        ]\n",
    "        try_answer_response = openai.ChatCompletion.create(\n",
    "            model=model,\n",
    "            messages=try_answer_questions,\n",
    "            temperature=0.8\n",
    "        )\n",
    "        try_answer_message = try_answer_response[\"choices\"][0][\"message\"][\"content\"]\n",
    "        response_message += f\"\\n嘗試解決您的問題: {try_answer_message}\"\n",
    "    return response_message"
   ]
  },
  {
   "cell_type": "code",
   "execution_count": 88,
   "metadata": {},
   "outputs": [
    {
     "data": {
      "text/plain": [
       "'很抱歉，我無法回答以上問題，請聯絡8855。\\n嘗試解決您的問題: 緯創軟體的股票代碼為3669。'"
      ]
     },
     "execution_count": 88,
     "metadata": {},
     "output_type": "execute_result"
    }
   ],
   "source": [
    "ask('緯創軟體股票代碼', try_answer=True)"
   ]
  },
  {
   "cell_type": "code",
   "execution_count": null,
   "metadata": {},
   "outputs": [],
   "source": []
  }
 ],
 "metadata": {
  "kernelspec": {
   "display_name": "Python 3 (ipykernel)",
   "language": "python",
   "name": "python3"
  },
  "language_info": {
   "codemirror_mode": {
    "name": "ipython",
    "version": 3
   },
   "file_extension": ".py",
   "mimetype": "text/x-python",
   "name": "python",
   "nbconvert_exporter": "python",
   "pygments_lexer": "ipython3",
   "version": "3.11.3"
  }
 },
 "nbformat": 4,
 "nbformat_minor": 4
}
